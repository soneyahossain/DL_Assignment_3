{
  "nbformat": 4,
  "nbformat_minor": 0,
  "metadata": {
    "colab": {
      "name": "deep_learning_assignment_spring2020.ipynb",
      "provenance": [],
      "collapsed_sections": [
        "z-__RAO5t53G",
        "Y5AUSc3jufKi",
        "PGdZ-bmxb473",
        "rL8RK38atNE5",
        "ajJ1z9qb0oqt",
        "L_8eQuKBi7u0",
        "HpPb-CRh47Ct",
        "tAMnCGwv-zJN",
        "LGIxg3q5i_bl",
        "gXlKZ2eQj9Y7"
      ]
    },
    "kernelspec": {
      "name": "python3",
      "display_name": "Python 3"
    },
    "widgets": {
      "application/vnd.jupyter.widget-state+json": {
        "4c7cf0ce507d4e62a2205dfab8f2c1cd": {
          "model_module": "@jupyter-widgets/controls",
          "model_name": "HBoxModel",
          "state": {
            "_view_name": "HBoxView",
            "_dom_classes": [],
            "_model_name": "HBoxModel",
            "_view_module": "@jupyter-widgets/controls",
            "_model_module_version": "1.5.0",
            "_view_count": null,
            "_view_module_version": "1.5.0",
            "box_style": "",
            "layout": "IPY_MODEL_8013aa04f9e146fb9e06ed13d4c99e6c",
            "_model_module": "@jupyter-widgets/controls",
            "children": [
              "IPY_MODEL_17bf13abdcb0459a990b9558b5890c84",
              "IPY_MODEL_90f92f65ec194635a9d1d9878879cfe4"
            ]
          }
        }
      }
    }
  },
  "cells": [
    {
      "cell_type": "markdown",
      "metadata": {
        "id": "z-__RAO5t53G",
        "colab_type": "text"
      },
      "source": [
        "## Deep Learning Basics\n",
        "\n",
        "In this tutorial we will implement a toy deep learning framework, to rapidly create neural network models. It should have some flexibilty and will be implemented so that new modules can be added and replaced just like in modern deep learning frameworks such as pytorch. We will be implementing some types of basic layers. We will also explore pytorch's nn package and see how pytorch accomplishes this goal and what are the extras that pytorch offers.\n"
      ]
    },
    {
      "cell_type": "markdown",
      "metadata": {
        "id": "Y5AUSc3jufKi",
        "colab_type": "text"
      },
      "source": [
        "### 1. Cleaner mini-batch-capable Linear + Softmax classifier\n"
      ]
    },
    {
      "cell_type": "markdown",
      "metadata": {
        "id": "Vby-ogCCxYwa",
        "colab_type": "text"
      },
      "source": [
        "In the previous assignment, we provided a basic implementation of a linear softmax classifier. In this assignment we will use this as a starting point for our deep learning library. \n",
        "\n",
        "**Softmax + Negative Log-Likelihood:** First we will re-implement the (softmax + negative log likelihood loss) computation, and its gradient computation. But we will additionally support batches of inputs and labels. \n"
      ]
    },
    {
      "cell_type": "code",
      "metadata": {
        "id": "j0JJRfD6ti7m",
        "colab_type": "code",
        "outputId": "cecf276e-db23-4a2d-a5b2-f97c3a88cecd",
        "colab": {
          "base_uri": "https://localhost:8080/",
          "height": 85
        }
      },
      "source": [
        "import torch\n",
        "\n",
        "# This class combines Softmax + Negative-log likelihood loss.\n",
        "# Similar to the previous lab, but this implementation works for \n",
        "# batches of inputs and not just individual input vectors. \n",
        "# Here \"inputs\" is batchSize x sizePredictionScores, and\n",
        "#      \"labels\" is a vector of size batchSize.\n",
        "class toynn_CrossEntropyLoss(object): \n",
        "  \n",
        "    # Forward pass: -log softmax(input_{label})\n",
        "    def forward(self, scores, labels):\n",
        "      \n",
        "        # 1. Computing the softmax: exp(x) / sum (exp(x))\n",
        "        max_val = scores.max()  # This is to avoid variable overflows.\n",
        "        exp_inputs = (scores - max_val).exp()\n",
        "        # This is different than in the previous lab. Avoiding for loops here.\n",
        "        denominators = exp_inputs.sum(1).repeat(scores.size(1), 1).t()\n",
        "        self.predictions = torch.mul(exp_inputs, 1 / denominators)\n",
        "        \n",
        "        # 2. Computing the loss: -log(y_label).\n",
        "        # Check what gather does. Just avoiding another for loop here.\n",
        "        return -self.predictions.log().gather(1, labels.view(-1, 1)).mean()\n",
        "    \n",
        "    # Backward pass: y_hat - y\n",
        "    def backward(self, scores, labels):\n",
        "      \n",
        "        # Here we avoid computing softmax again in backward pass.\n",
        "        grad_inputs = self.predictions.clone()\n",
        "        \n",
        "        # Ok, Here we will use a for loop (but it is avoidable too).\n",
        "        for i in range(0, scores.size(0)):\n",
        "            grad_inputs[i][labels[i]] = grad_inputs[i][labels[i]] - 1\n",
        "            \n",
        "        return grad_inputs \n",
        "      \n",
        "      \n",
        "# Let's verify if the above seems to be Okay.\n",
        "batchSize = 32\n",
        "mock_scores = torch.zeros(batchSize, 10).normal_(0, 0.1)\n",
        "mock_labels = torch.zeros(batchSize, 1, dtype=torch.long).fill_(3)\n",
        "\n",
        "loss_fn = toynn_CrossEntropyLoss()\n",
        "\n",
        "loss = loss_fn.forward(mock_scores, mock_labels)\n",
        "mock_scores_grads = loss_fn.backward(mock_scores, mock_labels)\n",
        "\n",
        "print(\"Input predictions: \", mock_scores.shape)\n",
        "print(\"Input labels: \", mock_labels.shape)\n",
        "print(\"Output loss: \", loss.item())\n",
        "print(\"Input prediction gradients: \", mock_scores_grads.shape)"
      ],
      "execution_count": 1,
      "outputs": [
        {
          "output_type": "stream",
          "text": [
            "Input predictions:  torch.Size([32, 10])\n",
            "Input labels:  torch.Size([32, 1])\n",
            "Output loss:  2.3062102794647217\n",
            "Input prediction gradients:  torch.Size([32, 10])\n"
          ],
          "name": "stdout"
        }
      ]
    },
    {
      "cell_type": "markdown",
      "metadata": {
        "id": "-DfaJM7RWk_0",
        "colab_type": "text"
      },
      "source": [
        "\n",
        "**Linear Transformation:**  Next, we will re-implement the linear transformation computation $y=Wx+b$, and its gradient computation. But we will additionally support batches of inputs and labels. Making a batched implementation of this layer is easier because the only change is that now we have matrix-matrix multiplications as opposed to vector-matrix multiplications. Additionally, we will support returning the gradients with respect to the inputs to the linear transformation ($\\partial \\ell / \\partial x_j$). Notice that in our previous assignment we were only concerned with computing $\\partial \\ell / \\partial w_{ij}$ and  $\\partial \\ell / \\partial b_i$ (gradients for the parameters)."
      ]
    },
    {
      "cell_type": "code",
      "metadata": {
        "id": "2Lfp8zLNXVo_",
        "colab_type": "code",
        "outputId": "ad453aec-facf-485e-b95a-90b236b36c4f",
        "colab": {
          "base_uri": "https://localhost:8080/",
          "height": 102
        }
      },
      "source": [
        "class toynn_Linear(object):\n",
        "    def __init__(self, numInputs, numOutputs):\n",
        "        # Allocate tensors for the weight and bias parameters.\n",
        "        self.weight = torch.Tensor(numInputs, numOutputs).normal_(0, 0.01)\n",
        "        self.weight_grads = torch.Tensor(numInputs, numOutputs)\n",
        "        self.bias = torch.Tensor(numOutputs).zero_()\n",
        "        self.bias_grads = torch.Tensor(numOutputs)\n",
        "    \n",
        "    # Forward pass, inputs is a matrix of size batchSize x numInputs.\n",
        "    # Notice that compared to the previous assignment, each input vector\n",
        "    # is a row in this matrix.\n",
        "    def forward(self, inputs):\n",
        "        # This one needs no change, it just becomes \n",
        "        # a matrix x matrix multiplication\n",
        "        # as opposed to just vector x matrix multiplication as we had before.\n",
        "        return torch.matmul(inputs, self.weight) + self.bias\n",
        "    \n",
        "    # Backward pass, in addition to compute gradients for the weight and bias.\n",
        "    # It has to compute gradients with respect to inputs. \n",
        "    def backward(self, inputs, scores_grads):\n",
        "        self.weight_grads = torch.matmul(inputs.t(), scores_grads)\n",
        "        self.bias_grads = scores_grads.sum(0)\n",
        "        return torch.matmul(scores_grads, self.weight.t())\n",
        "\n",
        "# Input: batchSize x numInputs.\n",
        "numInputs = 1 * 28 * 28\n",
        "mock_inputs = torch.Tensor(batchSize, numInputs).normal_(0, 0.1)\n",
        "\n",
        "# Create the linear object to use.\n",
        "linear = toynn_Linear(numInputs, 10)\n",
        "\n",
        "# Forward and Backward passes:\n",
        "scores = linear.forward(mock_inputs)\n",
        "mock_inputs_grads = linear.backward(mock_inputs, mock_scores_grads)\n",
        "\n",
        "print(\"Input x: \", mock_inputs.shape)\n",
        "print(\"Weights W: \", linear.weight.shape)\n",
        "print(\"Biases b: \", linear.bias.shape)\n",
        "print(\"Outputs: \", scores.shape)\n",
        "print(\"dL / dx: \", mock_inputs_grads.shape)"
      ],
      "execution_count": 2,
      "outputs": [
        {
          "output_type": "stream",
          "text": [
            "Input x:  torch.Size([32, 784])\n",
            "Weights W:  torch.Size([784, 10])\n",
            "Biases b:  torch.Size([10])\n",
            "Outputs:  torch.Size([32, 10])\n",
            "dL / dx:  torch.Size([32, 784])\n"
          ],
          "name": "stdout"
        }
      ]
    },
    {
      "cell_type": "markdown",
      "metadata": {
        "id": "NNiPMoctZ5T_",
        "colab_type": "text"
      },
      "source": [
        "We are finished with a cleaner implementation of the linear + softmax + negative log-likelihood classifier that we implemented for the previous assignment: (1) It supports batches,  (2) the functions for forward and backward are nicely packaged in a python class, (3) the weight and bias matrices (as well as weight_grad and bias_grad matrices) are nicely created and initialized in the constructor of the toynn_Linear class, (4) the Linear class also computes $\\partial \\ell / \\partial x_j$'s, which will be useful to stack layers in order to train deeper models."
      ]
    },
    {
      "cell_type": "markdown",
      "metadata": {
        "id": "PGdZ-bmxb473",
        "colab_type": "text"
      },
      "source": [
        "### 2. Mini-batch SGD on FashionMNIST\n"
      ]
    },
    {
      "cell_type": "markdown",
      "metadata": {
        "id": "zUfYXo8McA14",
        "colab_type": "text"
      },
      "source": [
        "Given the newly implemented toynn_CrossEntropyLoss and toynn_Linear classes, let's train a classifier which is exactly the same as in the previous assignment, but now we can use batches of examples, as opposed to single examples during training with Stochastic (mini-batch) Gradient Descent (SGD). There are a few changes to make to the code from the previous assignment"
      ]
    },
    {
      "cell_type": "code",
      "metadata": {
        "id": "IJDmV7Xgb3RI",
        "colab_type": "code",
        "outputId": "bd65a1aa-8939-4e16-a041-aaf014e96cf9",
        "colab": {
          "base_uri": "https://localhost:8080/",
          "height": 612
        }
      },
      "source": [
        "import torchvision\n",
        "import torchvision.transforms as transforms\n",
        "from torchvision.datasets import FashionMNIST\n",
        "\n",
        "# Removes, the need to call F.to_image ourselves.\n",
        "# Also, please look up what transforms.Normalize does.\n",
        "transform = transforms.Compose([transforms.ToTensor()])\n",
        "\n",
        "# Load the training, and validation datasets.\n",
        "trainset = FashionMNIST(root = './data', train = True, transform = transform, download = True)\n",
        "valset = FashionMNIST(root = './data', train = False, transform = transform, download = True)\n",
        "\n",
        "# NEW: Pytorch DataLoader for iterating over batches.\n",
        "batchSize = 100\n",
        "\n",
        "# Shuffling is needed in case dataset is not shuffled by default.\n",
        "train_loader = torch.utils.data.DataLoader(dataset = trainset,\n",
        "                                           batch_size = batchSize,\n",
        "                                           shuffle = True)\n",
        "# We don't need to bach the validation set but let's do it anyway.\n",
        "val_loader = torch.utils.data.DataLoader(dataset = valset,\n",
        "                                         batch_size = batchSize,\n",
        "                                         shuffle = False) # No need.\n",
        "\n",
        "# Define a learning rate. \n",
        "learningRate = 1e-4\n",
        "\n",
        "# Define number of epochs.\n",
        "N = 5\n",
        "\n",
        "# Create the model.\n",
        "loss_fn = toynn_CrossEntropyLoss()\n",
        "linear_fn = toynn_Linear(1 * 28 * 28, 10)\n",
        "\n",
        "\n",
        "# log accuracies and losses.\n",
        "train_accuracies = []; val_accuracies = []\n",
        "train_losses = []; val_losses = []\n",
        "\n",
        "# Training loop. Please make sure you understand every single line of code below.\n",
        "# Go back to some of the previous steps in this lab if necessary.\n",
        "for epoch in range(0, N):\n",
        "    correct = 0.0\n",
        "    cum_loss = 0.0\n",
        "    \n",
        "    # Make a pass over the training data.\n",
        "    for (i, (inputs, labels)) in enumerate(train_loader):\n",
        "        inputs = inputs.view(batchSize, 1 * 28 * 28)\n",
        "        \n",
        "        # Forward pass. (Prediction stage)\n",
        "        scores = linear_fn.forward(inputs)\n",
        "        cum_loss += loss_fn.forward(scores, labels).item()\n",
        "        \n",
        "        # Count how many correct in this batch.\n",
        "        max_scores, max_labels = scores.max(1)\n",
        "        correct += (max_labels == labels).sum().item()\n",
        "        \n",
        "        #Backward pass. (Gradient computation stage)\n",
        "        scores_grads = loss_fn.backward(scores, labels)\n",
        "        grad_inputs = linear_fn.backward(inputs, scores_grads)\n",
        "        \n",
        "        # Parameter updates (SGD step).\n",
        "        linear_fn.weight.add_(-learningRate, linear_fn.weight_grads)\n",
        "        linear_fn.bias.add_(-learningRate, linear_fn.bias_grads)\n",
        "        \n",
        "        # Logging the current results on training.\n",
        "        if (i + 1) % 100 == 0:\n",
        "            print('Train-epoch %d. Iteration %05d, Avg-Loss: %.4f, Accuracy: %.4f' % \n",
        "                  (epoch, i + 1, cum_loss / (i + 1), correct / (i * batchSize + 1)))\n",
        "    \n",
        "    train_accuracies.append(correct / len(trainset))\n",
        "    train_losses.append(cum_loss / len(trainset))\n",
        "    \n",
        "    \n",
        "    # Make a pass over the validation data.\n",
        "    correct = 0.0\n",
        "    cum_loss = 0.0\n",
        "    for (i, (inputs, labels)) in enumerate(val_loader):\n",
        "        inputs = inputs.view(batchSize, 1 * 28 * 28)\n",
        "        \n",
        "        # Forward pass. (Prediction stage)\n",
        "        scores = linear_fn.forward(inputs)\n",
        "        cum_loss += loss_fn.forward(scores, labels).item()\n",
        "        \n",
        "         # Count how many correct in this batch.\n",
        "        max_scores, max_labels = scores.max(1)\n",
        "        correct += (max_labels == labels).sum().item()\n",
        "          \n",
        "    val_accuracies.append(correct / len(valset))\n",
        "    val_losses.append(cum_loss / (i + 1))\n",
        "            \n",
        "    # Logging the current results on validation.\n",
        "    print('Validation-epoch %d. Avg-Loss: %.4f, Accuracy: %.4f' % \n",
        "          (epoch, cum_loss / (i + 1), correct / len(valset)))"
      ],
      "execution_count": 0,
      "outputs": [
        {
          "output_type": "stream",
          "text": [
            "Train-epoch 0. Iteration 00100, Avg-Loss: 1.6778, Accuracy: 0.5721\n",
            "Train-epoch 0. Iteration 00200, Avg-Loss: 1.4243, Accuracy: 0.6224\n",
            "Train-epoch 0. Iteration 00300, Avg-Loss: 1.2850, Accuracy: 0.6447\n",
            "Train-epoch 0. Iteration 00400, Avg-Loss: 1.1896, Accuracy: 0.6640\n",
            "Train-epoch 0. Iteration 00500, Avg-Loss: 1.1247, Accuracy: 0.6772\n",
            "Train-epoch 0. Iteration 00600, Avg-Loss: 1.0731, Accuracy: 0.6891\n",
            "Validation-epoch 0. Avg-Loss: 0.8119, Accuracy: 0.7363\n",
            "Train-epoch 1. Iteration 00100, Avg-Loss: 0.7808, Accuracy: 0.7654\n",
            "Train-epoch 1. Iteration 00200, Avg-Loss: 0.7705, Accuracy: 0.7632\n",
            "Train-epoch 1. Iteration 00300, Avg-Loss: 0.7601, Accuracy: 0.7651\n",
            "Train-epoch 1. Iteration 00400, Avg-Loss: 0.7520, Accuracy: 0.7664\n",
            "Train-epoch 1. Iteration 00500, Avg-Loss: 0.7422, Accuracy: 0.7686\n",
            "Train-epoch 1. Iteration 00600, Avg-Loss: 0.7326, Accuracy: 0.7708\n",
            "Validation-epoch 1. Avg-Loss: 0.7027, Accuracy: 0.7721\n",
            "Train-epoch 2. Iteration 00100, Avg-Loss: 0.6780, Accuracy: 0.7938\n",
            "Train-epoch 2. Iteration 00200, Avg-Loss: 0.6713, Accuracy: 0.7933\n",
            "Train-epoch 2. Iteration 00300, Avg-Loss: 0.6681, Accuracy: 0.7930\n",
            "Train-epoch 2. Iteration 00400, Avg-Loss: 0.6654, Accuracy: 0.7915\n",
            "Train-epoch 2. Iteration 00500, Avg-Loss: 0.6603, Accuracy: 0.7935\n",
            "Train-epoch 2. Iteration 00600, Avg-Loss: 0.6562, Accuracy: 0.7948\n",
            "Validation-epoch 2. Avg-Loss: 0.6521, Accuracy: 0.7879\n",
            "Train-epoch 3. Iteration 00100, Avg-Loss: 0.6384, Accuracy: 0.8062\n",
            "Train-epoch 3. Iteration 00200, Avg-Loss: 0.6265, Accuracy: 0.8060\n",
            "Train-epoch 3. Iteration 00300, Avg-Loss: 0.6238, Accuracy: 0.8046\n",
            "Train-epoch 3. Iteration 00400, Avg-Loss: 0.6186, Accuracy: 0.8052\n",
            "Train-epoch 3. Iteration 00500, Avg-Loss: 0.6175, Accuracy: 0.8054\n",
            "Train-epoch 3. Iteration 00600, Avg-Loss: 0.6145, Accuracy: 0.8061\n",
            "Validation-epoch 3. Avg-Loss: 0.6195, Accuracy: 0.7952\n",
            "Train-epoch 4. Iteration 00100, Avg-Loss: 0.5972, Accuracy: 0.8177\n",
            "Train-epoch 4. Iteration 00200, Avg-Loss: 0.5954, Accuracy: 0.8161\n",
            "Train-epoch 4. Iteration 00300, Avg-Loss: 0.5935, Accuracy: 0.8126\n",
            "Train-epoch 4. Iteration 00400, Avg-Loss: 0.5907, Accuracy: 0.8122\n",
            "Train-epoch 4. Iteration 00500, Avg-Loss: 0.5884, Accuracy: 0.8135\n",
            "Train-epoch 4. Iteration 00600, Avg-Loss: 0.5871, Accuracy: 0.8133\n",
            "Validation-epoch 4. Avg-Loss: 0.5993, Accuracy: 0.8024\n"
          ],
          "name": "stdout"
        }
      ]
    },
    {
      "cell_type": "markdown",
      "metadata": {
        "id": "NheOKVEvktSU",
        "colab_type": "text"
      },
      "source": [
        "We achieved an accuracy of 80% a lot faster than in the previous assignment, in fact we reached almost 83% in the same amount of epochs as before, so it seems mini-batching is helping to some extent. Try experimenting with different batch sizes and learning rates. Batch-size and learning rate are two hyper-parameters that are related in the optimization process, and is a current line of active research. For instance, under deep learning models, larger batch sizes do not offer as good generalization as smaller batches, which is bad because it is easier to parallelize code when using larger batch sizes. Also, a common strategy during training is to reduce (decay) the learning rate, as the training progresses to the later epochs, but a recent paper proposed to increase the batch size instead (for more, see: https://arxiv.org/abs/1711.00489 ). Probably for small datasets, keeping the learning rate fixed and batch size fixed will be fine, but as one moves to larger datasets, and deeper models, it becomes crucial to use some more advanced strategies."
      ]
    },
    {
      "cell_type": "markdown",
      "metadata": {
        "id": "rL8RK38atNE5",
        "colab_type": "text"
      },
      "source": [
        "### 3. The Rectified Linear Unit (ReLU) Activation Function.\n"
      ]
    },
    {
      "cell_type": "markdown",
      "metadata": {
        "id": "w2SukZfmtbH_",
        "colab_type": "text"
      },
      "source": [
        "We are close to implementing a neural network, we can accomplish this by stacking a linear operation on top of a Rectified Linear Unit (ReLU) activation, another linear operation, and the softmax + negative log likelihood loss. This is all it takes to create simple neural network with one hidden layer. First, let's implement the ReLU layer as we implemented the linear layer. "
      ]
    },
    {
      "cell_type": "code",
      "metadata": {
        "id": "i6ZplFBMwAkD",
        "colab_type": "code",
        "outputId": "c1519d27-1ee1-4cc4-c4cd-a1ad0e504ded",
        "colab": {
          "base_uri": "https://localhost:8080/",
          "height": 68
        }
      },
      "source": [
        "class toynn_ReLU(object):\n",
        "  \n",
        "    # Forward operation: f(x_i) = max(0, x_i)\n",
        "    def forward(self, inputs):\n",
        "        outputs = inputs.clone()\n",
        "        outputs[outputs < 0] = 0\n",
        "        return outputs\n",
        "    \n",
        "    # Make sure the backward pass is absolutely clear.\n",
        "    def backward(self, inputs, outputs_grad):\n",
        "        inputs_grad = outputs_grad.clone() # 1 * previous_grads\n",
        "        inputs_grad[inputs < 0] = 0  # or zero.\n",
        "        return inputs_grad\n",
        "      \n",
        "# Let's test it.\n",
        "x = torch.tensor([-2.3, 2.3, 3.1, -1.3, 4.3])\n",
        "relu_fn = toynn_ReLU()\n",
        "\n",
        "print(\"Input x: \", x)\n",
        "print(\"Output: \", relu_fn.forward(x))\n",
        "print(\"Grad x: \", relu_fn.backward(x, torch.ones(5)))\n",
        "\n"
      ],
      "execution_count": 3,
      "outputs": [
        {
          "output_type": "stream",
          "text": [
            "Input x:  tensor([-2.3000,  2.3000,  3.1000, -1.3000,  4.3000])\n",
            "Output:  tensor([0.0000, 2.3000, 3.1000, 0.0000, 4.3000])\n",
            "Grad x:  tensor([0., 1., 1., 0., 1.])\n"
          ],
          "name": "stdout"
        }
      ]
    },
    {
      "cell_type": "markdown",
      "metadata": {
        "id": "ajJ1z9qb0oqt",
        "colab_type": "text"
      },
      "source": [
        "### 4. Forward Pass in a Two-Layer Neural Network"
      ]
    },
    {
      "cell_type": "markdown",
      "metadata": {
        "id": "LK4M717G0v-8",
        "colab_type": "text"
      },
      "source": [
        "We are going to show here how to perform inference in a two-layer neural network using the operations defined earlier. In the questions for the assignment it is your task to train this network and demonstrate superior accuracy."
      ]
    },
    {
      "cell_type": "code",
      "metadata": {
        "id": "pH4e6WI21DHw",
        "colab_type": "code",
        "outputId": "5797e4af-5cd7-4dec-9c82-362c17c6b4b8",
        "colab": {
          "base_uri": "https://localhost:8080/",
          "height": 282
        }
      },
      "source": [
        "import matplotlib\n",
        "matplotlib.rc('image', cmap = 'gray')\n",
        "import matplotlib.pyplot as plt\n",
        "\n",
        "# Setup the input variable x.\n",
        "img, label = trainset[0]\n",
        "x = img.view(1, 1 * 28 * 28)\n",
        "\n",
        "# Setup the number of inputs, hidden neurons, and outputs.\n",
        "nInputs = 1 * 28 * 28\n",
        "nHidden = 512\n",
        "nOutputs = 10\n",
        "\n",
        "# Create the model here.\n",
        "linear_fn1 = toynn_Linear(nInputs, nHidden)\n",
        "relu_fn = toynn_ReLU()\n",
        "linear_fn2 = toynn_Linear(nHidden, nOutputs)\n",
        "\n",
        "# Make predictions.\n",
        "a = linear_fn1.forward(x)\n",
        "z = relu_fn.forward(a)\n",
        "yhat = linear_fn2.forward(z)\n",
        "\n",
        "# Show the prediction scores for each class.\n",
        "# Yes, pytorch tensors already come with a softmax function.\n",
        "# We need it here because we hard-coded the softmax inside \n",
        "# the loss function.\n",
        "print(yhat.softmax(dim = 1)) \n",
        "\n",
        "plt.imshow(img[0]); plt.axis('off'); plt.grid(False)"
      ],
      "execution_count": 6,
      "outputs": [
        {
          "output_type": "stream",
          "text": [
            "tensor([[0.1012, 0.0984, 0.0991, 0.1005, 0.0969, 0.1023, 0.0981, 0.1056, 0.1013,\n",
            "         0.0966]])\n"
          ],
          "name": "stdout"
        },
        {
          "output_type": "display_data",
          "data": {
            "image/png": "[encoded data removed]",
            "text/plain": [
              "<Figure size 432x288 with 1 Axes>"
            ]
          },
          "metadata": {
            "tags": []
          }
        }
      ]
    },
    {
      "cell_type": "markdown",
      "metadata": {
        "id": "8I1rONJT53Wu",
        "colab_type": "text"
      },
      "source": [
        "Since the weights, and biases in the two linear layers [linear_fn1, linear_fn2] are not trained, the predictions are arbitrary at this point. One of the tasks for this assignment is for you to train the neural network."
      ]
    },
    {
      "cell_type": "markdown",
      "metadata": {
        "id": "L_8eQuKBi7u0",
        "colab_type": "text"
      },
      "source": [
        "## Assignment Questions [100pts + 30pts (optional extra credit)]"
      ]
    },
    {
      "cell_type": "markdown",
      "metadata": {
        "id": "HpPb-CRh47Ct",
        "colab_type": "text"
      },
      "source": [
        "### 1. Activation Functions (30pts)\n",
        "\n"
      ]
    },
    {
      "cell_type": "markdown",
      "metadata": {
        "id": "gJrvZxV6oDPj",
        "colab_type": "text"
      },
      "source": [
        "Provide code for the following activation functions:\n",
        "\n",
        "$$\\text{Sigmoid(x)} = \\frac{1}{1 + e^{-x}} = \\frac{e^x}{e^x + 1}$$\n",
        "\n",
        "$$\\text{Tanh(x)} = \\frac{e^{x} - e^{-x}}{e^{x} + e^{-x}}$$\n",
        "\n",
        "$$ \\text{LeakyReLU}(x) = \\begin{cases} \n",
        "      0.01 x & x < 0 \\\\\n",
        "      x & x \\geq 0 \n",
        "\\end{cases}$$"
      ]
    },
    {
      "cell_type": "code",
      "metadata": {
        "id": "0ReR6YZC47eW",
        "colab_type": "code",
        "outputId": "2879f93f-6185-4334-eb67-e1d729555a42",
        "colab": {
          "base_uri": "https://localhost:8080/",
          "height": 238
        }
      },
      "source": [
        "import numpy as np \n",
        "import torch.nn as nn\n",
        "import torch.nn.functional as F\n",
        "\n",
        "class toynn_toynn_Sigmoid:\n",
        "    def forward(self, x):\n",
        "        outputs = x.clone()\n",
        "        outputs = 1 / (1 + np.exp(-x))\n",
        "        return outputs\n",
        "    \n",
        "    def backward(self, x, output_grads):\n",
        "        inputs_grad = output_grads.clone() # 1 * previous_grads  dA * A * (1 - A)\n",
        "        inputs_grad = inputs_grad * x * (1-x)\n",
        "        return inputs_grad\n",
        "\n",
        "class toynn_Tanh:\n",
        "    def forward(self, x):\n",
        "        outputs = x.clone()\n",
        "        outputs = np.tanh(outputs)                 #(outputs.exp() - outputs.exp()) /(outputs.exp() + outputs.exp())\n",
        "        return outputs\n",
        "    \n",
        "    def backward(self, x, output_grads):\n",
        "        inputs_grad = output_grads.clone() # 1 * previous_grads  dZ = dA * (1 - np.square(A))\n",
        "        inputs_grad = inputs_grad * ( 1 - (x * x) )\n",
        "        return inputs_grad\n",
        "\n",
        "class toynn_LeakyReLU:\n",
        "    def forward(self, x):\n",
        "        outputs = x.clone()\n",
        "        outputs[outputs < 0] = 0.01 * outputs[outputs < 0]\n",
        "        return outputs\n",
        "    \n",
        "    def backward(self, x, output_grads):\n",
        "        inputs_grad = output_grads.clone() # 1 * previous_grads\n",
        "        inputs_grad[x < 0] = 0.01 * inputs_grad[x < 0]\n",
        "        return inputs_grad\n",
        "\n",
        "\n",
        "\n",
        "# Let's test it.\n",
        "x = torch.tensor([-2.3, 2.3, 3.1, -1.3, 4.3])\n",
        "relu_fn = toynn_toynn_Sigmoid()\n",
        "A_sigmoid = relu_fn.forward(x)\n",
        "m = nn.Sigmoid()\n",
        "print(\"Input x: \", x)\n",
        "print(\"Output: \", relu_fn.forward(x))\n",
        "print(\"Output: \", m(x))\n",
        "print(\"Output: \", m(x).backward)\n",
        "print(\"Grad x: \", relu_fn.backward(relu_fn.forward(x), torch.ones(5)))\n",
        "\n"
      ],
      "execution_count": 0,
      "outputs": [
        {
          "output_type": "stream",
          "text": [
            "Input x:  tensor([-2.3000,  2.3000,  3.1000, -1.3000,  4.3000])\n",
            "Output:  tensor([0.0911, 0.9089, 0.9569, 0.2142, 0.9866])\n",
            "Output:  tensor([0.0911, 0.9089, 0.9569, 0.2142, 0.9866])\n",
            "Output:  <bound method Tensor.backward of tensor([0.0911, 0.9089, 0.9569, 0.2142, 0.9866])>\n",
            "Grad x:  tensor([0.0828, 0.0828, 0.0412, 0.1683, 0.0132])\n",
            "Input x:  tensor([-2.3000,  2.3000,  3.1000, -1.3000,  4.3000])\n",
            "Output:  tensor([-0.9801,  0.9801,  0.9959, -0.8617,  0.9996])\n",
            "Output:  tensor([-0.9801,  0.9801,  0.9959, -0.8617,  0.9996])\n",
            "Grad x:  tensor([0.0394, 0.0394, 0.0081, 0.2574, 0.0007])\n",
            "Input x:  tensor([-2.3000,  2.3000,  3.1000, -1.3000,  4.3000])\n",
            "Output:  tensor([-0.0230,  2.3000,  3.1000, -0.0130,  4.3000])\n",
            "Output:  tensor([-0.0230,  2.3000,  3.1000, -0.0130,  4.3000])\n",
            "Grad x:  tensor([0.0100, 1.0000, 1.0000, 0.0100, 1.0000])\n"
          ],
          "name": "stdout"
        }
      ]
    },
    {
      "cell_type": "markdown",
      "metadata": {
        "id": "fVk62dpw1BzF",
        "colab_type": "text"
      },
      "source": [
        ""
      ]
    },
    {
      "cell_type": "markdown",
      "metadata": {
        "id": "tAMnCGwv-zJN",
        "colab_type": "text"
      },
      "source": [
        "### 2. Binary Cross Entropy (BCE) loss function: (20pts)\n",
        "\n"
      ]
    },
    {
      "cell_type": "markdown",
      "metadata": {
        "id": "c0BccWLcn7Q1",
        "colab_type": "text"
      },
      "source": [
        "Provide code for the binary cross entropy loss function as defined below:\n",
        "\n",
        "$$\\ell(y, \\hat{y}) = -\\sum_{i=1}^{i=n} [y_i\\text{log}(\\hat{y}_i) + (1 - y_i)\\text{log}(1 - \\hat{y}_i)]$$\n",
        "\n",
        "where $n$ is the number of outputs (e.g. the size of vectors $y$ and $\\hat{y}$), the entries in the target vector $y_i$ are binary $\\in \\{0,1\\}$ and $\\hat{y}_i$ are typically the outputs of a sigmoid layer. Remember that the backward pass does not return a scalar but a vector containing the values for $\\partial \\ell / \\partial \\hat{y}_i$, henceforth a vector of the same size as $\\hat{y}$."
      ]
    },
    {
      "cell_type": "code",
      "metadata": {
        "id": "zVC2BJpa-5Ka",
        "colab_type": "code",
        "outputId": "2ab0f674-710a-4d13-d183-d80f121cf7fb",
        "colab": {
          "base_uri": "https://localhost:8080/",
          "height": 51
        }
      },
      "source": [
        "# Binary cross entropy loss. \n",
        "# Useful for classification when the classes are not mutually exclusive.\n",
        "# For instance, when both shoe, and dress, are correct labels for an image.\n",
        "# In other words, when images have multiple labels per image.\n",
        "\n",
        "import torch.nn as nn\n",
        "import torch.nn.functional as F\n",
        "\n",
        "\n",
        "class toynn_BCELoss:\n",
        "    def forward(self, predictions, targets):\n",
        "      #Loss = -(Y Log Yh + (1-Y) Log (1-Yh))\n",
        "      #loss=0\n",
        "      #print(targets.size(0))\n",
        "      #for i in range(0, targets.size(0)):\n",
        "        #k=predictions[i]\n",
        "        #if(targets[i].item()==1):\n",
        "          #loss=loss+k.log()\n",
        "        #else:\n",
        "          #loss=loss+(1-k).log()\n",
        "      #print(-1*(loss))\n",
        "      loss=targets*predictions.log()+(1-targets)*(1-predictions).log()\n",
        "      return -1*(loss.sum())\n",
        "        \n",
        "    def backward(self, predictions, targets):\n",
        "        # Backward pass.\n",
        "        return ((-targets/predictions)+((1-targets)/(1-predictions)))  #dLoss_Yh = — (Y/Yh — (1-Y)/(1-Yh))\n",
        "\n",
        "\n",
        "m = nn.Sigmoid()\n",
        "loss = nn.BCELoss()\n",
        "input = torch.randn(2, requires_grad=True)\n",
        "target = torch.tensor([1., 1.])\n",
        "print(soneya.forward(m(input),target))\n",
        "print(soneya.backward(m(input),target))\n"
      ],
      "execution_count": 0,
      "outputs": [
        {
          "output_type": "stream",
          "text": [
            "tensor(2.0901, grad_fn=<MulBackward0>)\n",
            "tensor([-2.1483, -3.7640], grad_fn=<AddBackward0>)\n"
          ],
          "name": "stdout"
        }
      ]
    },
    {
      "cell_type": "markdown",
      "metadata": {
        "id": "LGIxg3q5i_bl",
        "colab_type": "text"
      },
      "source": [
        "### 3. Training of the Two Layer NN (50pts)\n"
      ]
    },
    {
      "cell_type": "markdown",
      "metadata": {
        "id": "s5SiFBConq67",
        "colab_type": "text"
      },
      "source": [
        "Train the two-layer Neural Network as defined in Section 3 of this Assignment on FashionMNIST using toynn. Include below the code for training this neural network and report the training, validation plots for loss and accuracy. The code should be similar to the code in Section 2 of this assignment, please follow that convention."
      ]
    },
    {
      "cell_type": "code",
      "metadata": {
        "id": "UzQc9ZtKjnf0",
        "colab_type": "code",
        "outputId": "fdce2207-edaf-4b79-ff77-868082d661c8",
        "colab": {
          "base_uri": "https://localhost:8080/",
          "height": 755
        }
      },
      "source": [
        "import torchvision\n",
        "import torchvision.transforms as transforms\n",
        "from torchvision.datasets import FashionMNIST\n",
        "\n",
        "# Removes, the need to call F.to_image ourselves.\n",
        "# Also, please look up what transforms.Normalize does.\n",
        "transform = transforms.Compose([transforms.ToTensor()])\n",
        "\n",
        "# Load the training, and validation datasets.\n",
        "trainset = FashionMNIST(root = './data', train = True, transform = transform, download = True)\n",
        "valset = FashionMNIST(root = './data', train = False, transform = transform, download = True)\n",
        "\n",
        "# NEW: Pytorch DataLoader for iterating over batches.\n",
        "batchSize = 100\n",
        "\n",
        "# Shuffling is needed in case dataset is not shuffled by default.\n",
        "train_loader = torch.utils.data.DataLoader(dataset = trainset,\n",
        "                                           batch_size = batchSize,\n",
        "                                           shuffle = True)\n",
        "# We don't need to bach the validation set but let's do it anyway.\n",
        "val_loader = torch.utils.data.DataLoader(dataset = valset,batch_size = batchSize, shuffle = False) # No need.\n",
        "\n",
        "# Define a learning rate. \n",
        "learningRate = 1e-3\n",
        "\n",
        "# Define number of epochs.\n",
        "N = 4\n",
        "# Setup the number of inputs, hidden neurons, and outputs.\n",
        "nInputs = 1 * 28 * 28\n",
        "nHidden = 512\n",
        "nOutputs = 10\n",
        "\n",
        "# Create the model here.\n",
        "linear_fn1 = toynn_Linear(nInputs, nHidden)\n",
        "relu_fn = toynn_ReLU()\n",
        "linear_fn2 = toynn_Linear(nHidden, nOutputs)\n",
        "loss_fn = toynn_CrossEntropyLoss()\n",
        "\n",
        "\n",
        "# log accuracies and losses.\n",
        "train_accuracies = []; val_accuracies = []\n",
        "train_losses = []; val_losses = []\n",
        "\n",
        "# Training loop. Please make sure you understand every single line of code below.\n",
        "# Go back to some of the previous steps in this lab if necessary.\n",
        "for epoch in range(0, N):\n",
        "    correct = 0.0\n",
        "    cum_loss = 0.0\n",
        "    \n",
        "    # Make a pass over the training data.\n",
        "    for (i, (inputs, labels)) in enumerate(train_loader):\n",
        "        inputs = inputs.view(batchSize, 1 * 28 * 28)\n",
        "        \n",
        "        # Forward pass. (Prediction stage)\n",
        "\n",
        "        # Make predictions.\n",
        "        a = linear_fn1.forward(inputs)\n",
        "        z = relu_fn.forward(a)\n",
        "        scores = linear_fn2.forward(z)\n",
        "        cum_loss += loss_fn.forward(scores, labels).item()\n",
        "        \n",
        "        # Count how many correct in this batch.\n",
        "        max_scores, max_labels = scores.max(1)\n",
        "        correct += (max_labels == labels).sum().item()\n",
        "        \n",
        "        #Backward pass. (Gradient computation stage)\n",
        "        scores_grads = loss_fn.backward(scores, labels)\n",
        "        linear2_grad = linear_fn2.backward(z, scores_grads)\n",
        "        relu_grad = relu_fn.backward(a, linear2_grad)\n",
        "        grad_inputs = linear_fn1.backward(inputs, relu_grad)\n",
        "        \n",
        "        # Parameter updates (SGD step).\n",
        "        linear_fn1.weight.add_(-learningRate, linear_fn1.weight_grads)\n",
        "        linear_fn1.bias.add_(-learningRate, linear_fn1.bias_grads)\n",
        "        linear_fn2.weight.add_(-learningRate, linear_fn2.weight_grads)\n",
        "        linear_fn2.bias.add_(-learningRate, linear_fn2.bias_grads)\n",
        "        \n",
        "        \n",
        "        # Logging the current results on training.\n",
        "        if (i + 1) % 100 == 0:\n",
        "            print('Train-epoch %d. Iteration %05d, Avg-Loss: %.4f, Accuracy: %.4f' % \n",
        "                  (epoch, i + 1, cum_loss / (i + 1), correct / (i * batchSize + 1)))\n",
        "    \n",
        "    train_accuracies.append(correct / len(trainset))\n",
        "    train_losses.append(cum_loss / len(trainset))\n",
        "    \n",
        "    \n",
        "    # Make a pass over the validation data.\n",
        "    correct = 0.0\n",
        "    cum_loss = 0.0\n",
        "    for (i, (inputs, labels)) in enumerate(val_loader):\n",
        "        inputs = inputs.view(batchSize, 1 * 28 * 28)\n",
        "        \n",
        "        # Forward pass. (Prediction stage)\n",
        "        # Make predictions.\n",
        "        a = linear_fn1.forward(inputs)\n",
        "        z = relu_fn.forward(a)\n",
        "        scores = linear_fn2.forward(z)\n",
        "        cum_loss += loss_fn.forward(scores, labels).item()\n",
        "\n",
        "        # Count how many correct in this batch.\n",
        "        max_scores, max_labels = scores.max(1)\n",
        "        correct += (max_labels == labels).sum().item()\n",
        "          \n",
        "    val_accuracies.append(correct / len(valset))\n",
        "    val_losses.append(cum_loss / (i + 1))\n",
        "            \n",
        "    # Logging the current results on validation.\n",
        "    print('Validation-epoch %d. Avg-Loss: %.4f, Accuracy: %.4f' % \n",
        "          (epoch, cum_loss / (i + 1), correct / len(valset)))\n",
        "    \n",
        "\n",
        "plt.figure(figsize = (10, 4))\n",
        "plt.subplot(1, 2, 1)\n",
        "plt.plot(val_losses, 'bo-', label = 'val-loss')\n",
        "plt.plot(train_losses, 'ro-', label = 'train-loss')\n",
        "plt.grid('on')\n",
        "plt.ylabel('loss')\n",
        "plt.xlabel('epoch')\n",
        "plt.legend(['validation', 'training'], loc='upper right')\n",
        "\n",
        "plt.subplot(1, 2, 2)\n",
        "plt.plot(val_accuracies, 'bo-', label = 'val-acc')\n",
        "plt.plot(train_accuracies, 'ro-', label = 'train-acc')\n",
        "plt.ylabel('accuracy')\n",
        "plt.grid('on')\n",
        "plt.xlabel('epoch')\n",
        "plt.legend(['validation', 'training'], loc='lower right')\n",
        "plt.show()"
      ],
      "execution_count": 7,
      "outputs": [
        {
          "output_type": "stream",
          "text": [
            "Train-epoch 0. Iteration 00100, Avg-Loss: 1.3523, Accuracy: 0.5524\n",
            "Train-epoch 0. Iteration 00200, Avg-Loss: 1.0641, Accuracy: 0.6321\n",
            "Train-epoch 0. Iteration 00300, Avg-Loss: 0.9270, Accuracy: 0.6787\n",
            "Train-epoch 0. Iteration 00400, Avg-Loss: 0.8432, Accuracy: 0.7084\n",
            "Train-epoch 0. Iteration 00500, Avg-Loss: 0.7853, Accuracy: 0.7281\n",
            "Train-epoch 0. Iteration 00600, Avg-Loss: 0.7448, Accuracy: 0.7416\n",
            "Validation-epoch 0. Avg-Loss: 0.5277, Accuracy: 0.8144\n",
            "Train-epoch 1. Iteration 00100, Avg-Loss: 0.5116, Accuracy: 0.8240\n",
            "Train-epoch 1. Iteration 00200, Avg-Loss: 0.4983, Accuracy: 0.8297\n",
            "Train-epoch 1. Iteration 00300, Avg-Loss: 0.4927, Accuracy: 0.8309\n",
            "Train-epoch 1. Iteration 00400, Avg-Loss: 0.4895, Accuracy: 0.8312\n",
            "Train-epoch 1. Iteration 00500, Avg-Loss: 0.4828, Accuracy: 0.8315\n",
            "Train-epoch 1. Iteration 00600, Avg-Loss: 0.4767, Accuracy: 0.8335\n",
            "Validation-epoch 1. Avg-Loss: 0.4669, Accuracy: 0.8322\n",
            "Train-epoch 2. Iteration 00100, Avg-Loss: 0.4430, Accuracy: 0.8496\n",
            "Train-epoch 2. Iteration 00200, Avg-Loss: 0.4386, Accuracy: 0.8484\n",
            "Train-epoch 2. Iteration 00300, Avg-Loss: 0.4346, Accuracy: 0.8491\n",
            "Train-epoch 2. Iteration 00400, Avg-Loss: 0.4308, Accuracy: 0.8496\n",
            "Train-epoch 2. Iteration 00500, Avg-Loss: 0.4266, Accuracy: 0.8506\n",
            "Train-epoch 2. Iteration 00600, Avg-Loss: 0.4236, Accuracy: 0.8510\n",
            "Validation-epoch 2. Avg-Loss: 0.4430, Accuracy: 0.8398\n",
            "Train-epoch 3. Iteration 00100, Avg-Loss: 0.3948, Accuracy: 0.8661\n",
            "Train-epoch 3. Iteration 00200, Avg-Loss: 0.3961, Accuracy: 0.8626\n",
            "Train-epoch 3. Iteration 00300, Avg-Loss: 0.3906, Accuracy: 0.8633\n",
            "Train-epoch 3. Iteration 00400, Avg-Loss: 0.3920, Accuracy: 0.8627\n",
            "Train-epoch 3. Iteration 00500, Avg-Loss: 0.3927, Accuracy: 0.8619\n",
            "Train-epoch 3. Iteration 00600, Avg-Loss: 0.3934, Accuracy: 0.8618\n",
            "Validation-epoch 3. Avg-Loss: 0.4095, Accuracy: 0.8519\n"
          ],
          "name": "stdout"
        },
        {
          "output_type": "display_data",
          "data": {
            "image/png": "[encoded data removed]",
            "text/plain": [
              "<Figure size 720x288 with 2 Axes>"
            ]
          },
          "metadata": {
            "tags": []
          }
        }
      ]
    },
    {
      "cell_type": "markdown",
      "metadata": {
        "id": "gXlKZ2eQj9Y7",
        "colab_type": "text"
      },
      "source": [
        "### 4. Optional: The CIFAR 10 Dataset (torchvision.datasets.CIFAR10). (30pts)"
      ]
    },
    {
      "cell_type": "markdown",
      "metadata": {
        "id": "rZjEdGaYojsg",
        "colab_type": "text"
      },
      "source": [
        "Include the code for defining, and training the neural network, as well as plots for training, validation for loss and accuracy. Show the predictions for one example of this dataset. Write down below your code in bold face the accuracy you obtained and in how many epochs. I will post the highest accuracies that people obtained for this part."
      ]
    },
    {
      "cell_type": "code",
      "metadata": {
        "id": "feWB2DO7lWQv",
        "colab_type": "code",
        "colab": {
          "base_uri": "https://localhost:8080/",
          "height": 1000,
          "referenced_widgets": [
            "4c7cf0ce507d4e62a2205dfab8f2c1cd"
          ]
        },
        "outputId": "5c5adfcb-7c15-4013-d041-a142f9a01cbe"
      },
      "source": [
        "\n",
        "import torchvision\n",
        "import torchvision.transforms as transforms\n",
        "from torchvision.datasets import CIFAR10\n",
        "\n",
        "image_index = 200  # Feel free to change this.\n",
        "\n",
        "transform = transforms.Compose([transforms.ToTensor()])\n",
        "\n",
        "\n",
        "# The 10 categories of objects in FashionMNIST.\n",
        "classes = ('plane', 'car', 'bird', 'cat', 'deer', 'dog', 'frog', 'horse', 'ship', 'truck')\n",
        "\n",
        "# Load the dataset.\n",
        "trainset = CIFAR10(root = './data', train = True, transform = transform, download = True)\n",
        "valset = CIFAR10(root = './data', train = False, transform = transform, download = True)\n",
        "\n",
        "batchSize = 100\n",
        "# Shuffling is needed in case dataset is not shuffled by default.\n",
        "train_loader = torch.utils.data.DataLoader(dataset = trainset, batch_size = batchSize, shuffle = True)\n",
        "# We don't need to bach the validation set but let's do it anyway.\n",
        "val_loader = torch.utils.data.DataLoader(dataset = valset,batch_size = batchSize, shuffle = False) # No need.\n",
        "\n",
        "# Define a learning rate. \n",
        "learningRate = 1e-3\n",
        "\n",
        "# Define number of epochs.\n",
        "N = 5\n",
        "# Setup the number of inputs, hidden neurons, and outputs.\n",
        "nInputs = 3 * 32 * 32\n",
        "nHidden = 512\n",
        "nOutputs = 10\n",
        "\n",
        "# Create the model here.\n",
        "linear_fn1 = toynn_Linear(nInputs, nHidden)\n",
        "relu_fn = toynn_ReLU()\n",
        "linear_fn2 = toynn_Linear(nHidden, nOutputs)\n",
        "loss_fn = toynn_CrossEntropyLoss()\n",
        "\n",
        "# log accuracies and losses.\n",
        "train_accuracies = []; val_accuracies = []\n",
        "train_losses = []; val_losses = []\n",
        "\n",
        "# Training loop. Please make sure you understand every single line of code below.\n",
        "# Go back to some of the previous steps in this lab if necessary.\n",
        "for epoch in range(0, N):\n",
        "    correct = 0.0\n",
        "    cum_loss = 0.0\n",
        "    \n",
        "    # Make a pass over the training data.\n",
        "    for (i, (inputs, labels)) in enumerate(train_loader):\n",
        "        inputs = inputs.view(batchSize, 3 * 32 * 32)\n",
        "        \n",
        "        # Forward pass. (Prediction stage)\n",
        "\n",
        "        # Make predictions.\n",
        "        a = linear_fn1.forward(inputs)\n",
        "        z = relu_fn.forward(a)\n",
        "        scores = linear_fn2.forward(z)\n",
        "        cum_loss += loss_fn.forward(scores, labels).item()\n",
        "        \n",
        "        # Count how many correct in this batch.\n",
        "        max_scores, max_labels = scores.max(1)\n",
        "        correct += (max_labels == labels).sum().item()\n",
        "        \n",
        "        #Backward pass. (Gradient computation stage)\n",
        "        scores_grads = loss_fn.backward(scores, labels)\n",
        "        linear2_grad = linear_fn2.backward(z, scores_grads)\n",
        "        relu_grad = relu_fn.backward(a, linear2_grad)\n",
        "        grad_inputs = linear_fn1.backward(inputs, relu_grad)\n",
        "        \n",
        "        # Parameter updates (SGD step).\n",
        "        linear_fn1.weight.add_(-learningRate, linear_fn1.weight_grads)\n",
        "        linear_fn1.bias.add_(-learningRate, linear_fn1.bias_grads)\n",
        "        linear_fn2.weight.add_(-learningRate, linear_fn2.weight_grads)\n",
        "        linear_fn2.bias.add_(-learningRate, linear_fn2.bias_grads)\n",
        "        \n",
        "        \n",
        "        # Logging the current results on training.\n",
        "        if (i + 1) % 100 == 0:\n",
        "            print('Train-epoch %d. Iteration %05d, Avg-Loss: %.4f, Accuracy: %.4f' % \n",
        "                  (epoch, i + 1, cum_loss / (i + 1), correct / (i * batchSize + 1)))\n",
        "    \n",
        "    train_accuracies.append(correct / len(trainset))\n",
        "    train_losses.append(cum_loss / len(trainset))\n",
        "    \n",
        "    \n",
        "    # Make a pass over the validation data.\n",
        "    correct = 0.0\n",
        "    cum_loss = 0.0\n",
        "    for (i, (inputs, labels)) in enumerate(val_loader):\n",
        "        inputs = inputs.view(batchSize, 3 * 32 * 32)\n",
        "        \n",
        "        # Forward pass. (Prediction stage)\n",
        "        # Make predictions.\n",
        "        a = linear_fn1.forward(inputs)\n",
        "        z = relu_fn.forward(a)\n",
        "        scores = linear_fn2.forward(z)\n",
        "        cum_loss += loss_fn.forward(scores, labels).item()\n",
        "\n",
        "        # Count how many correct in this batch.\n",
        "        max_scores, max_labels = scores.max(1)\n",
        "        correct += (max_labels == labels).sum().item()\n",
        "          \n",
        "    val_accuracies.append(correct / len(valset))\n",
        "    val_losses.append(cum_loss / (i + 1))\n",
        "            \n",
        "    # Logging the current results on validation.\n",
        "    print('Validation-epoch %d. Avg-Loss: %.4f, Accuracy: %.4f' % \n",
        "          (epoch, cum_loss / (i + 1), correct / len(valset)))\n",
        "    \n",
        "\n",
        "plt.figure(figsize = (10, 4))\n",
        "plt.subplot(1, 2, 1)\n",
        "plt.plot(val_losses, 'bo-', label = 'val-loss')\n",
        "plt.plot(train_losses, 'ro-', label = 'train-loss')\n",
        "plt.grid('on')\n",
        "plt.ylabel('loss')\n",
        "plt.xlabel('epoch')\n",
        "plt.legend(['validation', 'training'], loc='upper right')\n",
        "\n",
        "plt.subplot(1, 2, 2)\n",
        "plt.plot(val_accuracies, 'bo-', label = 'val-acc')\n",
        "plt.plot(train_accuracies, 'ro-', label = 'train-acc')\n",
        "plt.ylabel('accuracy')\n",
        "plt.grid('on')\n",
        "plt.xlabel('epoch')\n",
        "plt.legend(['validation', 'training'], loc='lower right')\n",
        "plt.show()\n",
        "\n",
        "\n",
        "#prediction of an image \n",
        "\n",
        "# Setup the input variable x.\n",
        "img, label = trainset[image_index]\n",
        "x = img.view(1, 3 * 32 * 32)\n",
        "\n",
        "# Make predictions.\n",
        "a = linear_fn1.forward(x)\n",
        "z = relu_fn.forward(a)\n",
        "scores = linear_fn2.forward(z)\n",
        "score = scores.softmax(dim = 1)\n",
        "\n",
        "#print(score) # final prediction    \n",
        "\n",
        "# print the prediction\n",
        "max_label = score.max(1)\n",
        "print(max_label.indices.item()) \n",
        "\n",
        "print('actual label: Image {0} is a {1}'.format(image_index, classes[label]))\n",
        "print('prediction label: Image {0} is a {1}'.format(image_index, classes[max_label.indices]))     \n",
        "\n",
        "plt.imshow(img[0]); plt.axis('off'); plt.grid(False)\n",
        "\n",
        "\n",
        "\n",
        "\n"
      ],
      "execution_count": 8,
      "outputs": [
        {
          "output_type": "stream",
          "text": [
            "Downloading https://www.cs.toronto.edu/~kriz/cifar-10-python.tar.gz to ./data/cifar-10-python.tar.gz\n"
          ],
          "name": "stdout"
        },
        {
          "output_type": "display_data",
          "data": {
            "application/vnd.jupyter.widget-view+json": {
              "model_id": "4c7cf0ce507d4e62a2205dfab8f2c1cd",
              "version_minor": 0,
              "version_major": 2
            },
            "text/plain": [
              "HBox(children=(IntProgress(value=1, bar_style='info', max=1), HTML(value='')))"
            ]
          },
          "metadata": {
            "tags": []
          }
        },
        {
          "output_type": "stream",
          "text": [
            "\n",
            "Extracting ./data/cifar-10-python.tar.gz to ./data\n",
            "Files already downloaded and verified\n",
            "Train-epoch 0. Iteration 00100, Avg-Loss: 2.1460, Accuracy: 0.2032\n",
            "Train-epoch 0. Iteration 00200, Avg-Loss: 2.0705, Accuracy: 0.2445\n",
            "Train-epoch 0. Iteration 00300, Avg-Loss: 2.0184, Accuracy: 0.2659\n",
            "Train-epoch 0. Iteration 00400, Avg-Loss: 1.9816, Accuracy: 0.2797\n",
            "Train-epoch 0. Iteration 00500, Avg-Loss: 1.9513, Accuracy: 0.2912\n",
            "Validation-epoch 0. Avg-Loss: 1.8240, Accuracy: 0.3493\n",
            "Train-epoch 1. Iteration 00100, Avg-Loss: 1.8076, Accuracy: 0.3510\n",
            "Train-epoch 1. Iteration 00200, Avg-Loss: 1.7894, Accuracy: 0.3577\n",
            "Train-epoch 1. Iteration 00300, Avg-Loss: 1.7820, Accuracy: 0.3605\n",
            "Train-epoch 1. Iteration 00400, Avg-Loss: 1.7707, Accuracy: 0.3668\n",
            "Train-epoch 1. Iteration 00500, Avg-Loss: 1.7627, Accuracy: 0.3691\n",
            "Validation-epoch 1. Avg-Loss: 1.7617, Accuracy: 0.3536\n",
            "Train-epoch 2. Iteration 00100, Avg-Loss: 1.7087, Accuracy: 0.3940\n",
            "Train-epoch 2. Iteration 00200, Avg-Loss: 1.7066, Accuracy: 0.3934\n",
            "Train-epoch 2. Iteration 00300, Avg-Loss: 1.6967, Accuracy: 0.3965\n",
            "Train-epoch 2. Iteration 00400, Avg-Loss: 1.6949, Accuracy: 0.3970\n",
            "Train-epoch 2. Iteration 00500, Avg-Loss: 1.6841, Accuracy: 0.4016\n",
            "Validation-epoch 2. Avg-Loss: 1.6150, Accuracy: 0.4275\n",
            "Train-epoch 3. Iteration 00100, Avg-Loss: 1.6399, Accuracy: 0.4232\n",
            "Train-epoch 3. Iteration 00200, Avg-Loss: 1.6418, Accuracy: 0.4193\n",
            "Train-epoch 3. Iteration 00300, Avg-Loss: 1.6377, Accuracy: 0.4188\n",
            "Train-epoch 3. Iteration 00400, Avg-Loss: 1.6341, Accuracy: 0.4208\n",
            "Train-epoch 3. Iteration 00500, Avg-Loss: 1.6277, Accuracy: 0.4225\n",
            "Validation-epoch 3. Avg-Loss: 1.5827, Accuracy: 0.4386\n",
            "Train-epoch 4. Iteration 00100, Avg-Loss: 1.5822, Accuracy: 0.4461\n",
            "Train-epoch 4. Iteration 00200, Avg-Loss: 1.5862, Accuracy: 0.4392\n",
            "Train-epoch 4. Iteration 00300, Avg-Loss: 1.5887, Accuracy: 0.4362\n",
            "Train-epoch 4. Iteration 00400, Avg-Loss: 1.5922, Accuracy: 0.4367\n",
            "Train-epoch 4. Iteration 00500, Avg-Loss: 1.5844, Accuracy: 0.4389\n",
            "Validation-epoch 4. Avg-Loss: 1.5524, Accuracy: 0.4525\n"
          ],
          "name": "stdout"
        },
        {
          "output_type": "display_data",
          "data": {
            "image/png": "[encoded data removed]",
            "text/plain": [
              "<Figure size 720x288 with 2 Axes>"
            ]
          },
          "metadata": {
            "tags": []
          }
        },
        {
          "output_type": "stream",
          "text": [
            "2\n",
            "actual label: Image 200 is a frog\n",
            "prediction label: Image 200 is a bird\n"
          ],
          "name": "stdout"
        },
        {
          "output_type": "display_data",
          "data": {
            "image/png": "[encoded data removed]",
            "text/plain": [
              "<Figure size 432x288 with 1 Axes>"
            ]
          },
          "metadata": {
            "tags": []
          }
        }
      ]
    },
    {
      "cell_type": "markdown",
      "metadata": {
        "id": "7VLqNpM79-3l",
        "colab_type": "text"
      },
      "source": [
        "**I obtained a validation accuracy of 45% after 5 epochs.**"
      ]
    }
  ]
}